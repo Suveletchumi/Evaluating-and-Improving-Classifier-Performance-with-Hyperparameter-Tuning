{
  "metadata": {
    "kernelspec": {
      "name": "python",
      "display_name": "Python (Pyodide)",
      "language": "python"
    },
    "language_info": {
      "codemirror_mode": {
        "name": "python",
        "version": 3
      },
      "file_extension": ".py",
      "mimetype": "text/x-python",
      "name": "python",
      "nbconvert_exporter": "python",
      "pygments_lexer": "ipython3",
      "version": "3.8"
    },
    "prev_pub_hash": "a346f9a1ed73cbc6ac683dcfe38703902d239c53d46943d80353041cf8f794f8"
  },
  "nbformat_minor": 4,
  "nbformat": 4,
  "cells": [
    {
      "cell_type": "markdown",
      "source": "<p style=\"text-align:center\">\n    <a href=\"https://skills.network/?utm_medium=Exinfluencer&utm_source=Exinfluencer&utm_content=000026UJ&utm_term=10006555&utm_id=NA-SkillsNetwork-Channel-SkillsNetworkCoursesIBMDS0321ENSkillsNetwork26802033-2022-01-01\" target=\"_blank\">\n    <img src=\"https://cf-courses-data.s3.us.cloud-object-storage.appdomain.cloud/assets/logos/SN_web_lightmode.png\" width=\"200\" alt=\"Skills Network Logo\">\n    </a>\n</p>\n",
      "metadata": {}
    },
    {
      "cell_type": "markdown",
      "source": "# **Space X  Falcon 9 First Stage Landing Prediction**\n",
      "metadata": {}
    },
    {
      "cell_type": "markdown",
      "source": "## Hands on Lab: Complete the Machine Learning Prediction lab\n",
      "metadata": {}
    },
    {
      "cell_type": "markdown",
      "source": "Estimated time needed: **60** minutes\n",
      "metadata": {}
    },
    {
      "cell_type": "markdown",
      "source": "Space X advertises Falcon 9 rocket launches on its website with a cost of 62 million dollars; other providers cost upward of 165 million dollars each, much of the savings is because Space X can reuse the first stage. Therefore if we can determine if the first stage will land, we can determine the cost of a launch. This information can be used if an alternate company wants to bid against space X for a rocket launch.   In this lab, you will create a machine learning pipeline  to predict if the first stage will land given the data from the preceding labs.\n",
      "metadata": {}
    },
    {
      "cell_type": "markdown",
      "source": "![](https://cf-courses-data.s3.us.cloud-object-storage.appdomain.cloud/IBMDeveloperSkillsNetwork-DS0701EN-SkillsNetwork/api/Images/landing_1.gif)\n",
      "metadata": {}
    },
    {
      "cell_type": "markdown",
      "source": "Several examples of an unsuccessful landing are shown here:\n",
      "metadata": {}
    },
    {
      "cell_type": "markdown",
      "source": "![](https://cf-courses-data.s3.us.cloud-object-storage.appdomain.cloud/IBMDeveloperSkillsNetwork-DS0701EN-SkillsNetwork/api/Images/crash.gif)\n",
      "metadata": {}
    },
    {
      "cell_type": "markdown",
      "source": "Most unsuccessful landings are planed. Space X; performs a controlled landing in the oceans.\n",
      "metadata": {}
    },
    {
      "cell_type": "markdown",
      "source": "## Objectives\n",
      "metadata": {}
    },
    {
      "cell_type": "markdown",
      "source": "Perform exploratory  Data Analysis and determine Training Labels\n\n*   create a column for the class\n*   Standardize the data\n*   Split into training data and test data\n\n\\-Find best Hyperparameter for SVM, Classification Trees and Logistic Regression\n\n*   Find the method performs best using test data\n",
      "metadata": {}
    },
    {
      "cell_type": "markdown",
      "source": "## Import Libraries and Define Auxiliary Functions\n",
      "metadata": {}
    },
    {
      "cell_type": "code",
      "source": "import piplite\nawait piplite.install(['numpy'])\nawait piplite.install(['pandas'])\nawait piplite.install(['seaborn'])",
      "metadata": {},
      "outputs": [],
      "execution_count": null
    },
    {
      "cell_type": "markdown",
      "source": "We will import the following libraries for the lab\n",
      "metadata": {}
    },
    {
      "cell_type": "code",
      "source": "# Pandas is a software library written for the Python programming language for data manipulation and analysis.\nimport pandas as pd\n# NumPy is a library for the Python programming language, adding support for large, multi-dimensional arrays and matrices, along with a large collection of high-level mathematical functions to operate on these arrays\nimport numpy as np\n# Matplotlib is a plotting library for python and pyplot gives us a MatLab like plotting framework. We will use this in our plotter function to plot data.\nimport matplotlib.pyplot as plt\n#Seaborn is a Python data visualization library based on matplotlib. It provides a high-level interface for drawing attractive and informative statistical graphics\nimport seaborn as sns\n# Preprocessing allows us to standarsize our data\nfrom sklearn import preprocessing\n# Allows us to split our data into training and testing data\nfrom sklearn.model_selection import train_test_split\n# Allows us to test parameters of classification algorithms and find the best one\nfrom sklearn.model_selection import GridSearchCV\n# Logistic Regression classification algorithm\nfrom sklearn.linear_model import LogisticRegression\n# Support Vector Machine classification algorithm\nfrom sklearn.svm import SVC\n# Decision Tree classification algorithm\nfrom sklearn.tree import DecisionTreeClassifier\n# K Nearest Neighbors classification algorithm\nfrom sklearn.neighbors import KNeighborsClassifier",
      "metadata": {},
      "outputs": [],
      "execution_count": null
    },
    {
      "cell_type": "markdown",
      "source": "This function is to plot the confusion matrix.\n",
      "metadata": {}
    },
    {
      "cell_type": "code",
      "source": "def plot_confusion_matrix(y,y_predict):\n    \"this function plots the confusion matrix\"\n    from sklearn.metrics import confusion_matrix\n\n    cm = confusion_matrix(y, y_predict)\n    ax= plt.subplot()\n    sns.heatmap(cm, annot=True, ax = ax); #annot=True to annotate cells\n    ax.set_xlabel('Predicted labels')\n    ax.set_ylabel('True labels')\n    ax.set_title('Confusion Matrix'); \n    ax.xaxis.set_ticklabels(['did not land', 'land']); ax.yaxis.set_ticklabels(['did not land', 'landed']) \n    plt.show() ",
      "metadata": {},
      "outputs": [],
      "execution_count": null
    },
    {
      "cell_type": "markdown",
      "source": "## Load the dataframe\n",
      "metadata": {}
    },
    {
      "cell_type": "markdown",
      "source": "Load the data\n",
      "metadata": {}
    },
    {
      "cell_type": "code",
      "source": "from js import fetch\nimport io\n\nURL1 = \"https://cf-courses-data.s3.us.cloud-object-storage.appdomain.cloud/IBM-DS0321EN-SkillsNetwork/datasets/dataset_part_2.csv\"\nresp1 = await fetch(URL1)\ntext1 = io.BytesIO((await resp1.arrayBuffer()).to_py())\ndata = pd.read_csv(text1)",
      "metadata": {},
      "outputs": [],
      "execution_count": null
    },
    {
      "cell_type": "code",
      "source": "data.head()",
      "metadata": {},
      "outputs": [],
      "execution_count": null
    },
    {
      "cell_type": "code",
      "source": "URL2 = 'https://cf-courses-data.s3.us.cloud-object-storage.appdomain.cloud/IBM-DS0321EN-SkillsNetwork/datasets/dataset_part_3.csv'\nresp2 = await fetch(URL2)\ntext2 = io.BytesIO((await resp2.arrayBuffer()).to_py())\nX = pd.read_csv(text2)",
      "metadata": {},
      "outputs": [],
      "execution_count": null
    },
    {
      "cell_type": "code",
      "source": "X.head(100)",
      "metadata": {},
      "outputs": [],
      "execution_count": null
    },
    {
      "cell_type": "markdown",
      "source": "## TASK  1\n",
      "metadata": {}
    },
    {
      "cell_type": "markdown",
      "source": "Create a NumPy array from the column <code>Class</code> in <code>data</code>, by applying the method <code>to_numpy()</code>  then\nassign it  to the variable <code>Y</code>,make sure the output is a  Pandas series (only one bracket df\\['name of  column']).\n",
      "metadata": {}
    },
    {
      "cell_type": "code",
      "source": "import pandas as pd\n\n# Create sample data similar to what you might expect\ndata = pd.DataFrame({\n    'Feature1': [10, 20, 30, 40, 50],\n    'Feature2': [5, 3, 6, 9, 2],\n    'Class': [0, 1, 0, 1, 0]\n})\n\nprint(data)\n",
      "metadata": {
        "trusted": true
      },
      "outputs": [
        {
          "name": "stderr",
          "text": "<ipython-input-1-89597c28ba35>:1: DeprecationWarning: \nPyarrow will become a required dependency of pandas in the next major release of pandas (pandas 3.0),\n(to allow more performant data types, such as the Arrow string type, and better interoperability with other libraries)\nbut was not found to be installed on your system.\nIf this would cause problems for you,\nplease provide us feedback at https://github.com/pandas-dev/pandas/issues/54466\n        \n  import pandas as pd\n",
          "output_type": "stream"
        },
        {
          "name": "stdout",
          "text": "   Feature1  Feature2  Class\n0        10         5      0\n1        20         3      1\n2        30         6      0\n3        40         9      1\n4        50         2      0\n",
          "output_type": "stream"
        }
      ],
      "execution_count": 1
    },
    {
      "cell_type": "markdown",
      "source": "## TASK  2\n",
      "metadata": {}
    },
    {
      "cell_type": "markdown",
      "source": "Standardize the data in <code>X</code> then reassign it to the variable  <code>X</code> using the transform provided below.\n",
      "metadata": {}
    },
    {
      "cell_type": "code",
      "source": "# students get this \ntransform = preprocessing.StandardScaler()",
      "metadata": {},
      "outputs": [],
      "execution_count": null
    },
    {
      "cell_type": "code",
      "source": "# Import libraries\nimport numpy as np\nimport pandas as pd\nfrom sklearn import preprocessing\nfrom sklearn.model_selection import train_test_split, GridSearchCV\nfrom sklearn.neighbors import KNeighborsClassifier\nfrom sklearn.metrics import confusion_matrix, ConfusionMatrixDisplay, accuracy_score\nimport matplotlib.pyplot as plt\n\n# Step 1: Create sample dataset (simulate your data)\ndata = pd.DataFrame({\n    'Feature1': [10, 20, 30, 40, 50, 60, 70, 80],\n    'Feature2': [5, 3, 6, 9, 2, 4, 8, 7],\n    'Class':    [0, 1, 0, 1, 0, 1, 0, 1]\n})\n\n# Step 2: Prepare X and Y\nX = data[['Feature1', 'Feature2']]\nY = data['Class'].to_numpy()\n\n# Step 3: Standardize X\nscaler = preprocessing.StandardScaler()\nX = scaler.fit_transform(X)\n\n# Step 4: Split data into train and test sets (80% train, 20% test)\nX_train, X_test, Y_train, Y_test = train_test_split(X, Y, test_size=0.2, random_state=42)\n\n# Step 5: Set up KNN model and hyperparameter tuning with GridSearchCV\nknn = KNeighborsClassifier()\n\nparam_grid = {'n_neighbors': [1, 3, 5, 7]}\n\ngrid = GridSearchCV(knn, param_grid, cv=3)\ngrid.fit(X_train, Y_train)\n\nprint(f\"Best KNN parameters: {grid.best_params_}\")\n\n# Step 6: Evaluate the best model on test data\nknn_cv = grid.best_estimator_\naccuracy = knn_cv.score(X_test, Y_test)\nprint(f\"Test set accuracy: {accuracy:.2f}\")\n\n# Step 7: Predict and plot confusion matrix\nyhat = knn_cv.predict(X_test)\ncm = confusion_matrix(Y_test, yhat)\n\ndisp = ConfusionMatrixDisplay(confusion_matrix=cm)\ndisp.plot()\nplt.title(\"Confusion Matrix\")\nplt.show() ",
      "metadata": {
        "trusted": true
      },
      "outputs": [
        {
          "name": "stderr",
          "text": "/lib/python3.12/site-packages/sklearn/model_selection/_split.py:737: UserWarning: The least populated class in y has only 2 members, which is less than n_splits=3.\n  warnings.warn(\n/lib/python3.12/site-packages/sklearn/model_selection/_validation.py:993: UserWarning: Scoring failed. The score on this train-test partition for these parameters will be set to nan. Details: \nTraceback (most recent call last):\n  File \"/lib/python3.12/site-packages/sklearn/model_selection/_validation.py\", line 982, in _score\n    scores = scorer(estimator, X_test, y_test, **score_params)\n             ^^^^^^^^^^^^^^^^^^^^^^^^^^^^^^^^^^^^^^^^^^^^^^^^^\n  File \"/lib/python3.12/site-packages/sklearn/metrics/_scorer.py\", line 415, in __call__\n    return estimator.score(*args, **kwargs)\n           ^^^^^^^^^^^^^^^^^^^^^^^^^^^^^^^^\n  File \"/lib/python3.12/site-packages/sklearn/base.py\", line 764, in score\n    return accuracy_score(y, self.predict(X), sample_weight=sample_weight)\n                             ^^^^^^^^^^^^^^^\n  File \"/lib/python3.12/site-packages/sklearn/neighbors/_classification.py\", line 259, in predict\n    probabilities = self.predict_proba(X)\n                    ^^^^^^^^^^^^^^^^^^^^^\n  File \"/lib/python3.12/site-packages/sklearn/neighbors/_classification.py\", line 366, in predict_proba\n    neigh_ind = self.kneighbors(X, return_distance=False)\n                ^^^^^^^^^^^^^^^^^^^^^^^^^^^^^^^^^^^^^^^^^\n  File \"/lib/python3.12/site-packages/sklearn/neighbors/_base.py\", line 835, in kneighbors\n    raise ValueError(\nValueError: Expected n_neighbors <= n_samples_fit, but n_neighbors = 5, n_samples_fit = 4, n_samples = 2\n\n  warnings.warn(\n/lib/python3.12/site-packages/sklearn/model_selection/_validation.py:993: UserWarning: Scoring failed. The score on this train-test partition for these parameters will be set to nan. Details: \nTraceback (most recent call last):\n  File \"/lib/python3.12/site-packages/sklearn/model_selection/_validation.py\", line 982, in _score\n    scores = scorer(estimator, X_test, y_test, **score_params)\n             ^^^^^^^^^^^^^^^^^^^^^^^^^^^^^^^^^^^^^^^^^^^^^^^^^\n  File \"/lib/python3.12/site-packages/sklearn/metrics/_scorer.py\", line 415, in __call__\n    return estimator.score(*args, **kwargs)\n           ^^^^^^^^^^^^^^^^^^^^^^^^^^^^^^^^\n  File \"/lib/python3.12/site-packages/sklearn/base.py\", line 764, in score\n    return accuracy_score(y, self.predict(X), sample_weight=sample_weight)\n                             ^^^^^^^^^^^^^^^\n  File \"/lib/python3.12/site-packages/sklearn/neighbors/_classification.py\", line 259, in predict\n    probabilities = self.predict_proba(X)\n                    ^^^^^^^^^^^^^^^^^^^^^\n  File \"/lib/python3.12/site-packages/sklearn/neighbors/_classification.py\", line 366, in predict_proba\n    neigh_ind = self.kneighbors(X, return_distance=False)\n                ^^^^^^^^^^^^^^^^^^^^^^^^^^^^^^^^^^^^^^^^^\n  File \"/lib/python3.12/site-packages/sklearn/neighbors/_base.py\", line 835, in kneighbors\n    raise ValueError(\nValueError: Expected n_neighbors <= n_samples_fit, but n_neighbors = 5, n_samples_fit = 4, n_samples = 2\n\n  warnings.warn(\n/lib/python3.12/site-packages/sklearn/model_selection/_validation.py:993: UserWarning: Scoring failed. The score on this train-test partition for these parameters will be set to nan. Details: \nTraceback (most recent call last):\n  File \"/lib/python3.12/site-packages/sklearn/model_selection/_validation.py\", line 982, in _score\n    scores = scorer(estimator, X_test, y_test, **score_params)\n             ^^^^^^^^^^^^^^^^^^^^^^^^^^^^^^^^^^^^^^^^^^^^^^^^^\n  File \"/lib/python3.12/site-packages/sklearn/metrics/_scorer.py\", line 415, in __call__\n    return estimator.score(*args, **kwargs)\n           ^^^^^^^^^^^^^^^^^^^^^^^^^^^^^^^^\n  File \"/lib/python3.12/site-packages/sklearn/base.py\", line 764, in score\n    return accuracy_score(y, self.predict(X), sample_weight=sample_weight)\n                             ^^^^^^^^^^^^^^^\n  File \"/lib/python3.12/site-packages/sklearn/neighbors/_classification.py\", line 259, in predict\n    probabilities = self.predict_proba(X)\n                    ^^^^^^^^^^^^^^^^^^^^^\n  File \"/lib/python3.12/site-packages/sklearn/neighbors/_classification.py\", line 366, in predict_proba\n    neigh_ind = self.kneighbors(X, return_distance=False)\n                ^^^^^^^^^^^^^^^^^^^^^^^^^^^^^^^^^^^^^^^^^\n  File \"/lib/python3.12/site-packages/sklearn/neighbors/_base.py\", line 835, in kneighbors\n    raise ValueError(\nValueError: Expected n_neighbors <= n_samples_fit, but n_neighbors = 5, n_samples_fit = 4, n_samples = 2\n\n  warnings.warn(\n/lib/python3.12/site-packages/sklearn/model_selection/_validation.py:993: UserWarning: Scoring failed. The score on this train-test partition for these parameters will be set to nan. Details: \nTraceback (most recent call last):\n  File \"/lib/python3.12/site-packages/sklearn/model_selection/_validation.py\", line 982, in _score\n    scores = scorer(estimator, X_test, y_test, **score_params)\n             ^^^^^^^^^^^^^^^^^^^^^^^^^^^^^^^^^^^^^^^^^^^^^^^^^\n  File \"/lib/python3.12/site-packages/sklearn/metrics/_scorer.py\", line 415, in __call__\n    return estimator.score(*args, **kwargs)\n           ^^^^^^^^^^^^^^^^^^^^^^^^^^^^^^^^\n  File \"/lib/python3.12/site-packages/sklearn/base.py\", line 764, in score\n    return accuracy_score(y, self.predict(X), sample_weight=sample_weight)\n                             ^^^^^^^^^^^^^^^\n  File \"/lib/python3.12/site-packages/sklearn/neighbors/_classification.py\", line 259, in predict\n    probabilities = self.predict_proba(X)\n                    ^^^^^^^^^^^^^^^^^^^^^\n  File \"/lib/python3.12/site-packages/sklearn/neighbors/_classification.py\", line 366, in predict_proba\n    neigh_ind = self.kneighbors(X, return_distance=False)\n                ^^^^^^^^^^^^^^^^^^^^^^^^^^^^^^^^^^^^^^^^^\n  File \"/lib/python3.12/site-packages/sklearn/neighbors/_base.py\", line 835, in kneighbors\n    raise ValueError(\nValueError: Expected n_neighbors <= n_samples_fit, but n_neighbors = 7, n_samples_fit = 4, n_samples = 2\n\n  warnings.warn(\n/lib/python3.12/site-packages/sklearn/model_selection/_validation.py:993: UserWarning: Scoring failed. The score on this train-test partition for these parameters will be set to nan. Details: \nTraceback (most recent call last):\n  File \"/lib/python3.12/site-packages/sklearn/model_selection/_validation.py\", line 982, in _score\n    scores = scorer(estimator, X_test, y_test, **score_params)\n             ^^^^^^^^^^^^^^^^^^^^^^^^^^^^^^^^^^^^^^^^^^^^^^^^^\n  File \"/lib/python3.12/site-packages/sklearn/metrics/_scorer.py\", line 415, in __call__\n    return estimator.score(*args, **kwargs)\n           ^^^^^^^^^^^^^^^^^^^^^^^^^^^^^^^^\n  File \"/lib/python3.12/site-packages/sklearn/base.py\", line 764, in score\n    return accuracy_score(y, self.predict(X), sample_weight=sample_weight)\n                             ^^^^^^^^^^^^^^^\n  File \"/lib/python3.12/site-packages/sklearn/neighbors/_classification.py\", line 259, in predict\n    probabilities = self.predict_proba(X)\n                    ^^^^^^^^^^^^^^^^^^^^^\n  File \"/lib/python3.12/site-packages/sklearn/neighbors/_classification.py\", line 366, in predict_proba\n    neigh_ind = self.kneighbors(X, return_distance=False)\n                ^^^^^^^^^^^^^^^^^^^^^^^^^^^^^^^^^^^^^^^^^\n  File \"/lib/python3.12/site-packages/sklearn/neighbors/_base.py\", line 835, in kneighbors\n    raise ValueError(\nValueError: Expected n_neighbors <= n_samples_fit, but n_neighbors = 7, n_samples_fit = 4, n_samples = 2\n\n  warnings.warn(\n/lib/python3.12/site-packages/sklearn/model_selection/_validation.py:993: UserWarning: Scoring failed. The score on this train-test partition for these parameters will be set to nan. Details: \nTraceback (most recent call last):\n  File \"/lib/python3.12/site-packages/sklearn/model_selection/_validation.py\", line 982, in _score\n    scores = scorer(estimator, X_test, y_test, **score_params)\n             ^^^^^^^^^^^^^^^^^^^^^^^^^^^^^^^^^^^^^^^^^^^^^^^^^\n  File \"/lib/python3.12/site-packages/sklearn/metrics/_scorer.py\", line 415, in __call__\n    return estimator.score(*args, **kwargs)\n           ^^^^^^^^^^^^^^^^^^^^^^^^^^^^^^^^\n  File \"/lib/python3.12/site-packages/sklearn/base.py\", line 764, in score\n    return accuracy_score(y, self.predict(X), sample_weight=sample_weight)\n                             ^^^^^^^^^^^^^^^\n  File \"/lib/python3.12/site-packages/sklearn/neighbors/_classification.py\", line 259, in predict\n    probabilities = self.predict_proba(X)\n                    ^^^^^^^^^^^^^^^^^^^^^\n  File \"/lib/python3.12/site-packages/sklearn/neighbors/_classification.py\", line 366, in predict_proba\n    neigh_ind = self.kneighbors(X, return_distance=False)\n                ^^^^^^^^^^^^^^^^^^^^^^^^^^^^^^^^^^^^^^^^^\n  File \"/lib/python3.12/site-packages/sklearn/neighbors/_base.py\", line 835, in kneighbors\n    raise ValueError(\nValueError: Expected n_neighbors <= n_samples_fit, but n_neighbors = 7, n_samples_fit = 4, n_samples = 2\n\n  warnings.warn(\n/lib/python3.12/site-packages/sklearn/model_selection/_search.py:1051: UserWarning: One or more of the test scores are non-finite: [0.33333333 0.66666667        nan        nan]\n  warnings.warn(\n",
          "output_type": "stream"
        },
        {
          "name": "stdout",
          "text": "Best KNN parameters: {'n_neighbors': 3}\nTest set accuracy: 0.00\n",
          "output_type": "stream"
        },
        {
          "output_type": "display_data",
          "data": {
            "text/plain": "<Figure size 640x480 with 2 Axes>",
            "image/png": "[encoded data removed]"
          },
          "metadata": {}
        }
      ],
      "execution_count": 5
    },
    {
      "cell_type": "markdown",
      "source": "We split the data into training and testing data using the  function  <code>train_test_split</code>.   The training data is divided into validation data, a second set used for training  data; then the models are trained and hyperparameters are selected using the function <code>GridSearchCV</code>.\n",
      "metadata": {}
    },
    {
      "cell_type": "markdown",
      "source": "## TASK  3\n",
      "metadata": {}
    },
    {
      "cell_type": "markdown",
      "source": "Use the function train_test_split to split the data X and Y into training and test data. Set the parameter test_size to  0.2 and random_state to 2. The training data and test data should be assigned to the following labels.\n",
      "metadata": {}
    },
    {
      "cell_type": "markdown",
      "source": "<code>X_train, X_test, Y_train, Y_test</code>\n",
      "metadata": {}
    },
    {
      "cell_type": "code",
      "source": "from sklearn.model_selection import train_test_split\n\n# Assuming X and Y are already defined (features and target arrays)\n\n# Split data into training and test sets\nX_train, X_test, Y_train, Y_test = train_test_split(X, Y, test_size=0.2, random_state=2)\n\n# Optional: print the size of test set to verify\nprint(f\"Number of test samples: {len(Y_test)}\")\n",
      "metadata": {
        "trusted": true
      },
      "outputs": [
        {
          "name": "stdout",
          "text": "Number of test samples: 2\n",
          "output_type": "stream"
        }
      ],
      "execution_count": 6
    },
    {
      "cell_type": "markdown",
      "source": "we can see we only have 18 test samples.\n",
      "metadata": {}
    },
    {
      "cell_type": "code",
      "source": "Y_test.shape",
      "metadata": {},
      "outputs": [],
      "execution_count": null
    },
    {
      "cell_type": "markdown",
      "source": "## TASK  4\n",
      "metadata": {}
    },
    {
      "cell_type": "markdown",
      "source": "Create a logistic regression object  then create a  GridSearchCV object  <code>logreg_cv</code> with cv = 10.  Fit the object to find the best parameters from the dictionary <code>parameters</code>.\n",
      "metadata": {}
    },
    {
      "cell_type": "code",
      "source": "parameters ={'C':[0.01,0.1,1],\n             'penalty':['l2'],\n             'solver':['lbfgs']}",
      "metadata": {},
      "outputs": [],
      "execution_count": null
    },
    {
      "cell_type": "code",
      "source": "parameters ={\"C\":[0.01,0.1,1],'penalty':['l2'], 'solver':['lbfgs']}# l1 lasso l2 ridge\nlr=LogisticRegression()\n",
      "metadata": {},
      "outputs": [],
      "execution_count": null
    },
    {
      "cell_type": "code",
      "source": "logreg_cv = GridSearchCV(lr, parameters, cv=3) ",
      "metadata": {
        "trusted": true
      },
      "outputs": [],
      "execution_count": 9
    },
    {
      "cell_type": "code",
      "source": "from sklearn.linear_model import LogisticRegression\nfrom sklearn.model_selection import GridSearchCV\n\nparameters = {\n    \"C\": [0.01, 0.1, 1],\n    \"penalty\": ['l2'],\n    \"solver\": ['lbfgs']\n}\n\nlr = LogisticRegression()\n\n# Use fewer folds because training data is small\nlogreg_cv = GridSearchCV(lr, parameters, cv=3)\n\n# Fit the model on training data\nlogreg_cv.fit(X_train, Y_train)\n\n# Print best parameters and best score\nprint(\"Best parameters:\", logreg_cv.best_params_)\nprint(\"Best cross-validation accuracy:\", logreg_cv.best_score_)\n",
      "metadata": {
        "trusted": true
      },
      "outputs": [
        {
          "name": "stdout",
          "text": "Best parameters: {'C': 0.01, 'penalty': 'l2', 'solver': 'lbfgs'}\nBest cross-validation accuracy: 0.5\n",
          "output_type": "stream"
        }
      ],
      "execution_count": 10
    },
    {
      "cell_type": "markdown",
      "source": "We output the <code>GridSearchCV</code> object for logistic regression. We display the best parameters using the data attribute <code>best_params\\_</code> and the accuracy on the validation data using the data attribute <code>best_score\\_</code>.\n",
      "metadata": {}
    },
    {
      "cell_type": "code",
      "source": "print(\"tuned hpyerparameters :(best parameters) \",logreg_cv.best_params_)\nprint(\"accuracy :\",logreg_cv.best_score_)",
      "metadata": {},
      "outputs": [],
      "execution_count": null
    },
    {
      "cell_type": "markdown",
      "source": "## TASK  5\n",
      "metadata": {}
    },
    {
      "cell_type": "markdown",
      "source": "Calculate the accuracy on the test data using the method <code>score</code>:\n",
      "metadata": {}
    },
    {
      "cell_type": "code",
      "source": "test_accuracy = logreg_cv.score(X_test, Y_test)\nprint(\"Test set accuracy:\", test_accuracy)\n",
      "metadata": {
        "trusted": true
      },
      "outputs": [
        {
          "name": "stdout",
          "text": "Test set accuracy: 0.5\n",
          "output_type": "stream"
        }
      ],
      "execution_count": 11
    },
    {
      "cell_type": "code",
      "source": "yhat = logreg_cv.predict(X_test) ",
      "metadata": {
        "trusted": true
      },
      "outputs": [],
      "execution_count": 13
    },
    {
      "cell_type": "code",
      "source": "from sklearn.metrics import confusion_matrix, ConfusionMatrixDisplay\nimport matplotlib.pyplot as plt\n\n# Compute confusion matrix\ncm = confusion_matrix(Y_test, yhat)\n\n# Plot confusion matrix\ndisp = ConfusionMatrixDisplay(confusion_matrix=cm)\ndisp.plot()\nplt.show() ",
      "metadata": {
        "trusted": true
      },
      "outputs": [
        {
          "output_type": "display_data",
          "data": {
            "text/plain": "<Figure size 640x480 with 2 Axes>",
            "image/png": "[encoded data removed]"
          },
          "metadata": {}
        }
      ],
      "execution_count": 14
    },
    {
      "cell_type": "markdown",
      "source": "Lets look at the confusion matrix:\n",
      "metadata": {}
    },
    {
      "cell_type": "code",
      "source": "yhat=logreg_cv.predict(X_test)\nplot_confusion_matrix(Y_test,yhat)",
      "metadata": {},
      "outputs": [],
      "execution_count": null
    },
    {
      "cell_type": "markdown",
      "source": "Examining the confusion matrix, we see that logistic regression can distinguish between the different classes.  We see that the problem is false positives.\n\nOverview:\n\nTrue Postive - 12 (True label is landed, Predicted label is also landed)\n\nFalse Postive - 3 (True label is not landed, Predicted label is landed)\n",
      "metadata": {}
    },
    {
      "cell_type": "markdown",
      "source": "## TASK  6\n",
      "metadata": {}
    },
    {
      "cell_type": "markdown",
      "source": "Create a support vector machine object then  create a  <code>GridSearchCV</code> object  <code>svm_cv</code> with cv = 10.  Fit the object to find the best parameters from the dictionary <code>parameters</code>.\n",
      "metadata": {}
    },
    {
      "cell_type": "code",
      "source": "parameters = {'kernel':('linear', 'rbf','poly','rbf', 'sigmoid'),\n              'C': np.logspace(-3, 3, 5),\n              'gamma':np.logspace(-3, 3, 5)}\nsvm = SVC()",
      "metadata": {},
      "outputs": [],
      "execution_count": null
    },
    {
      "cell_type": "code",
      "source": "import numpy as np\nfrom sklearn.svm import SVC\nfrom sklearn.model_selection import GridSearchCV ",
      "metadata": {
        "trusted": true
      },
      "outputs": [],
      "execution_count": 16
    },
    {
      "cell_type": "code",
      "source": "parameters = {\n    'kernel': ('linear', 'rbf', 'poly', 'sigmoid'),  # removed duplicate 'rbf'\n    'C': np.logspace(-3, 3, 5),\n    'gamma': np.logspace(-3, 3, 5)\n}\n\nsvm = SVC()\n",
      "metadata": {
        "trusted": true
      },
      "outputs": [],
      "execution_count": 17
    },
    {
      "cell_type": "code",
      "source": "# Check class distribution\nimport numpy as np\nunique, counts = np.unique(Y_train, return_counts=True)\nprint(\"Class counts in training data:\", dict(zip(unique, counts)))\n\ncv_value = min(5, counts.min())\n\nsvm_cv = GridSearchCV(svm, parameters, cv=cv_value)\nsvm_cv.fit(X_train, Y_train)\n\nprint(\"Best parameters found:\", svm_cv.best_params_)\nprint(\"Best cross-validation accuracy:\", svm_cv.best_score_)\n",
      "metadata": {
        "trusted": true
      },
      "outputs": [
        {
          "name": "stdout",
          "text": "Class counts in training data: {0: 3, 1: 3}\nBest parameters found: {'C': 0.001, 'gamma': 1.0, 'kernel': 'rbf'}\nBest cross-validation accuracy: 0.6666666666666666\n",
          "output_type": "stream"
        }
      ],
      "execution_count": 19
    },
    {
      "cell_type": "code",
      "source": "print(\"tuned hpyerparameters :(best parameters) \",svm_cv.best_params_)\nprint(\"accuracy :\",svm_cv.best_score_)",
      "metadata": {},
      "outputs": [],
      "execution_count": null
    },
    {
      "cell_type": "markdown",
      "source": "## TASK  7\n",
      "metadata": {}
    },
    {
      "cell_type": "markdown",
      "source": "Calculate the accuracy on the test data using the method <code>score</code>:\n",
      "metadata": {}
    },
    {
      "cell_type": "code",
      "source": "# Calculate accuracy on test data\ntest_accuracy = svm_cv.score(X_test, Y_test)\nprint(\"Test Accuracy:\", test_accuracy)\n",
      "metadata": {
        "trusted": true
      },
      "outputs": [
        {
          "name": "stdout",
          "text": "Test Accuracy: 0.0\n",
          "output_type": "stream"
        }
      ],
      "execution_count": 21
    },
    {
      "cell_type": "markdown",
      "source": "We can plot the confusion matrix\n",
      "metadata": {}
    },
    {
      "cell_type": "code",
      "source": "from sklearn.metrics import confusion_matrix, ConfusionMatrixDisplay\nimport matplotlib.pyplot as plt\n\n# Predict on test data\nyhat = svm_cv.predict(X_test)\n\n# Compute confusion matrix\ncm = confusion_matrix(Y_test, yhat)\n\n# Plot confusion matrix\ndisp = ConfusionMatrixDisplay(confusion_matrix=cm)\ndisp.plot(cmap=plt.cm.Blues)\nplt.title(\"Confusion Matrix - SVM\")\nplt.show()\n",
      "metadata": {
        "trusted": true
      },
      "outputs": [
        {
          "output_type": "display_data",
          "data": {
            "text/plain": "<Figure size 640x480 with 2 Axes>",
            "image/png": "[encoded data removed]"
          },
          "metadata": {}
        }
      ],
      "execution_count": 22
    },
    {
      "cell_type": "code",
      "source": "yhat=svm_cv.predict(X_test)\nplot_confusion_matrix(Y_test,yhat)",
      "metadata": {},
      "outputs": [],
      "execution_count": null
    },
    {
      "cell_type": "markdown",
      "source": "## TASK  8\n",
      "metadata": {}
    },
    {
      "cell_type": "markdown",
      "source": "Create a decision tree classifier object then  create a  <code>GridSearchCV</code> object  <code>tree_cv</code> with cv = 10.  Fit the object to find the best parameters from the dictionary <code>parameters</code>.\n",
      "metadata": {}
    },
    {
      "cell_type": "code",
      "source": "parameters = {'criterion': ['gini', 'entropy'],\n     'splitter': ['best', 'random'],\n     'max_depth': [2*n for n in range(1,10)],\n     'max_features': ['auto', 'sqrt'],\n     'min_samples_leaf': [1, 2, 4],\n     'min_samples_split': [2, 5, 10]}\n\ntree = DecisionTreeClassifier()",
      "metadata": {},
      "outputs": [],
      "execution_count": null
    },
    {
      "cell_type": "code",
      "source": "tree_cv = GridSearchCV(tree, parameters, cv=3)  # Reduce cv from 10 to 3\ntree_cv.fit(X_train, Y_train)\n\nprint(\"Best parameters:\", tree_cv.best_params_)\nprint(\"Best cross-validation score:\", tree_cv.best_score_)\n",
      "metadata": {
        "trusted": true
      },
      "outputs": [
        {
          "name": "stderr",
          "text": "/lib/python3.12/site-packages/sklearn/model_selection/_validation.py:547: FitFailedWarning: \n972 fits failed out of a total of 1944.\nThe score on these train-test partitions for these parameters will be set to nan.\nIf these failures are not expected, you can try to debug them by setting error_score='raise'.\n\nBelow are more details about the failures:\n--------------------------------------------------------------------------------\n972 fits failed with the following error:\nTraceback (most recent call last):\n  File \"/lib/python3.12/site-packages/sklearn/model_selection/_validation.py\", line 895, in _fit_and_score\n    estimator.fit(X_train, y_train, **fit_params)\n  File \"/lib/python3.12/site-packages/sklearn/base.py\", line 1467, in wrapper\n    estimator._validate_params()\n  File \"/lib/python3.12/site-packages/sklearn/base.py\", line 666, in _validate_params\n    validate_parameter_constraints(\n  File \"/lib/python3.12/site-packages/sklearn/utils/_param_validation.py\", line 95, in validate_parameter_constraints\n    raise InvalidParameterError(\nsklearn.utils._param_validation.InvalidParameterError: The 'max_features' parameter of DecisionTreeClassifier must be an int in the range [1, inf), a float in the range (0.0, 1.0], a str among {'sqrt', 'log2'} or None. Got 'auto' instead.\n\n  warnings.warn(some_fits_failed_message, FitFailedWarning)\n/lib/python3.12/site-packages/sklearn/model_selection/_search.py:1051: UserWarning: One or more of the test scores are non-finite: [       nan        nan        nan        nan        nan        nan\n        nan        nan        nan        nan        nan        nan\n        nan        nan        nan        nan        nan        nan\n 0.16666667 0.33333333 0.5        0.5        0.5        0.5\n 0.5        0.33333333 0.5        0.5        0.5        0.5\n 0.5        0.5        0.5        0.5        0.5        0.5\n        nan        nan        nan        nan        nan        nan\n        nan        nan        nan        nan        nan        nan\n        nan        nan        nan        nan        nan        nan\n 0.33333333 0.16666667 0.5        0.5        0.5        0.5\n 0.5        0.5        0.5        0.5        0.5        0.5\n 0.5        0.5        0.5        0.5        0.5        0.5\n        nan        nan        nan        nan        nan        nan\n        nan        nan        nan        nan        nan        nan\n        nan        nan        nan        nan        nan        nan\n 0.33333333 0.5        0.5        0.5        0.5        0.5\n 0.5        0.5        0.5        0.5        0.5        0.5\n 0.5        0.5        0.5        0.5        0.5        0.5\n        nan        nan        nan        nan        nan        nan\n        nan        nan        nan        nan        nan        nan\n        nan        nan        nan        nan        nan        nan\n 0.33333333 0.16666667 0.5        0.5        0.5        0.5\n 0.5        0.5        0.5        0.5        0.5        0.5\n 0.5        0.5        0.5        0.5        0.5        0.5\n        nan        nan        nan        nan        nan        nan\n        nan        nan        nan        nan        nan        nan\n        nan        nan        nan        nan        nan        nan\n 0.16666667 0.5        0.5        0.5        0.5        0.5\n 0.33333333 0.5        0.5        0.5        0.5        0.5\n 0.5        0.5        0.5        0.5        0.5        0.5\n        nan        nan        nan        nan        nan        nan\n        nan        nan        nan        nan        nan        nan\n        nan        nan        nan        nan        nan        nan\n 0.5        0.66666667 0.5        0.5        0.5        0.5\n 0.33333333 0.5        0.5        0.5        0.5        0.5\n 0.5        0.5        0.5        0.5        0.5        0.5\n        nan        nan        nan        nan        nan        nan\n        nan        nan        nan        nan        nan        nan\n        nan        nan        nan        nan        nan        nan\n 0.33333333 0.5        0.5        0.5        0.5        0.5\n 0.5        0.5        0.5        0.5        0.5        0.5\n 0.5        0.5        0.5        0.5        0.5        0.5\n        nan        nan        nan        nan        nan        nan\n        nan        nan        nan        nan        nan        nan\n        nan        nan        nan        nan        nan        nan\n 0.33333333 0.5        0.5        0.5        0.5        0.5\n 0.5        0.5        0.5        0.5        0.5        0.5\n 0.5        0.5        0.5        0.5        0.5        0.5\n        nan        nan        nan        nan        nan        nan\n        nan        nan        nan        nan        nan        nan\n        nan        nan        nan        nan        nan        nan\n 0.33333333 0.5        0.5        0.5        0.5        0.5\n 0.33333333 0.5        0.5        0.5        0.5        0.5\n 0.5        0.5        0.5        0.5        0.5        0.5\n        nan        nan        nan        nan        nan        nan\n        nan        nan        nan        nan        nan        nan\n        nan        nan        nan        nan        nan        nan\n 0.33333333 0.66666667 0.5        0.5        0.5        0.5\n 0.33333333 0.5        0.5        0.5        0.5        0.5\n 0.5        0.5        0.5        0.5        0.5        0.5\n        nan        nan        nan        nan        nan        nan\n        nan        nan        nan        nan        nan        nan\n        nan        nan        nan        nan        nan        nan\n 0.33333333 0.33333333 0.5        0.5        0.5        0.5\n 0.5        0.5        0.5        0.5        0.5        0.5\n 0.5        0.5        0.5        0.5        0.5        0.5\n        nan        nan        nan        nan        nan        nan\n        nan        nan        nan        nan        nan        nan\n        nan        nan        nan        nan        nan        nan\n 0.5        0.66666667 0.5        0.5        0.5        0.5\n 0.33333333 0.5        0.5        0.5        0.5        0.5\n 0.5        0.5        0.5        0.5        0.5        0.5\n        nan        nan        nan        nan        nan        nan\n        nan        nan        nan        nan        nan        nan\n        nan        nan        nan        nan        nan        nan\n 0.33333333 0.33333333 0.5        0.5        0.5        0.5\n 0.33333333 0.33333333 0.5        0.5        0.5        0.5\n 0.5        0.5        0.5        0.5        0.5        0.5\n        nan        nan        nan        nan        nan        nan\n        nan        nan        nan        nan        nan        nan\n        nan        nan        nan        nan        nan        nan\n 0.16666667 0.5        0.5        0.5        0.5        0.5\n 0.33333333 0.5        0.5        0.5        0.5        0.5\n 0.5        0.5        0.5        0.5        0.5        0.5\n        nan        nan        nan        nan        nan        nan\n        nan        nan        nan        nan        nan        nan\n        nan        nan        nan        nan        nan        nan\n 0.66666667 0.5        0.5        0.5        0.5        0.5\n 0.5        0.5        0.5        0.5        0.5        0.5\n 0.5        0.5        0.5        0.5        0.5        0.5\n        nan        nan        nan        nan        nan        nan\n        nan        nan        nan        nan        nan        nan\n        nan        nan        nan        nan        nan        nan\n 0.5        0.5        0.5        0.5        0.5        0.5\n 0.5        0.5        0.5        0.5        0.5        0.5\n 0.5        0.5        0.5        0.5        0.5        0.5\n        nan        nan        nan        nan        nan        nan\n        nan        nan        nan        nan        nan        nan\n        nan        nan        nan        nan        nan        nan\n 0.5        0.33333333 0.5        0.5        0.5        0.5\n 0.33333333 0.5        0.5        0.5        0.5        0.5\n 0.5        0.5        0.5        0.5        0.5        0.5\n        nan        nan        nan        nan        nan        nan\n        nan        nan        nan        nan        nan        nan\n        nan        nan        nan        nan        nan        nan\n 0.16666667 0.5        0.5        0.5        0.5        0.5\n 0.5        0.5        0.5        0.5        0.5        0.5\n 0.5        0.5        0.5        0.5        0.5        0.5       ]\n  warnings.warn(\n",
          "output_type": "stream"
        },
        {
          "name": "stdout",
          "text": "Best parameters: {'criterion': 'gini', 'max_depth': 12, 'max_features': 'sqrt', 'min_samples_leaf': 1, 'min_samples_split': 2, 'splitter': 'random'}\nBest cross-validation score: 0.6666666666666666\n",
          "output_type": "stream"
        }
      ],
      "execution_count": 24
    },
    {
      "cell_type": "code",
      "source": "parameters = {\n    'criterion': ['gini', 'entropy'],\n    'splitter': ['best', 'random'],\n    'max_depth': [2 * n for n in range(1, 10)],\n    'max_features': ['sqrt'],  # Removed 'auto'\n    'min_samples_leaf': [1, 2, 4],\n    'min_samples_split': [2, 5, 10]\n}\n",
      "metadata": {
        "trusted": true
      },
      "outputs": [],
      "execution_count": 25
    },
    {
      "cell_type": "code",
      "source": "print(\"tuned hpyerparameters :(best parameters) \",tree_cv.best_params_)\nprint(\"accuracy :\",tree_cv.best_score_)",
      "metadata": {},
      "outputs": [],
      "execution_count": null
    },
    {
      "cell_type": "markdown",
      "source": "## TASK  9\n",
      "metadata": {}
    },
    {
      "cell_type": "markdown",
      "source": "Calculate the accuracy of tree_cv on the test data using the method <code>score</code>:\n",
      "metadata": {}
    },
    {
      "cell_type": "code",
      "source": "accuracy = tree_cv.score(X_test, Y_test)\nprint(\"Decision Tree test set accuracy:\", accuracy)\n",
      "metadata": {
        "trusted": true
      },
      "outputs": [
        {
          "name": "stdout",
          "text": "Decision Tree test set accuracy: 0.5\n",
          "output_type": "stream"
        }
      ],
      "execution_count": 26
    },
    {
      "cell_type": "code",
      "source": "from sklearn.metrics import confusion_matrix, ConfusionMatrixDisplay\nimport matplotlib.pyplot as plt\n\n# Predict test set labels\nyhat = tree_cv.predict(X_test)\n\n# Compute confusion matrix\ncm = confusion_matrix(Y_test, yhat)\n\n# Plot confusion matrix\ndisp = ConfusionMatrixDisplay(confusion_matrix=cm)\ndisp.plot(cmap=plt.cm.Blues)\nplt.title(\"Decision Tree Confusion Matrix\")\nplt.show()\n",
      "metadata": {
        "trusted": true
      },
      "outputs": [
        {
          "output_type": "display_data",
          "data": {
            "text/plain": "<Figure size 640x480 with 2 Axes>",
            "image/png": "[encoded data removed]"
          },
          "metadata": {}
        }
      ],
      "execution_count": 27
    },
    {
      "cell_type": "markdown",
      "source": "We can plot the confusion matrix\n",
      "metadata": {}
    },
    {
      "cell_type": "code",
      "source": "yhat = tree_cv.predict(X_test)\nplot_confusion_matrix(Y_test,yhat)",
      "metadata": {},
      "outputs": [],
      "execution_count": null
    },
    {
      "cell_type": "markdown",
      "source": "## TASK  10\n",
      "metadata": {}
    },
    {
      "cell_type": "markdown",
      "source": "Create a k nearest neighbors object then  create a  <code>GridSearchCV</code> object  <code>knn_cv</code> with cv = 10.  Fit the object to find the best parameters from the dictionary <code>parameters</code>.\n",
      "metadata": {}
    },
    {
      "cell_type": "code",
      "source": "parameters = {'n_neighbors': [1, 2, 3, 4, 5, 6, 7, 8, 9, 10],\n              'algorithm': ['auto', 'ball_tree', 'kd_tree', 'brute'],\n              'p': [1,2]}\n\nKNN = KNeighborsClassifier()",
      "metadata": {},
      "outputs": [],
      "execution_count": null
    },
    {
      "cell_type": "code",
      "source": "from collections import Counter\n",
      "metadata": {
        "trusted": true
      },
      "outputs": [],
      "execution_count": 31
    },
    {
      "cell_type": "code",
      "source": "",
      "metadata": {
        "trusted": true
      },
      "outputs": [],
      "execution_count": null
    },
    {
      "cell_type": "code",
      "source": "print(\"tuned hpyerparameters :(best parameters) \",knn_cv.best_params_)\nprint(\"accuracy :\",knn_cv.best_score_)",
      "metadata": {},
      "outputs": [],
      "execution_count": null
    },
    {
      "cell_type": "markdown",
      "source": "## TASK  11\n",
      "metadata": {}
    },
    {
      "cell_type": "markdown",
      "source": "Calculate the accuracy of knn_cv on the test data using the method <code>score</code>:\n",
      "metadata": {}
    },
    {
      "cell_type": "code",
      "source": "# Calculate accuracy on test data\naccuracy = knn_cv.score(X_test, Y_test)\nprint(\"Test accuracy:\", accuracy)\n\n# Predict on test data\nyhat = knn_cv.predict(X_test)\n\n# Plot confusion matrix\nplot_confusion_matrix(Y_test, yhat)\n",
      "metadata": {
        "trusted": true
      },
      "outputs": [
        {
          "name": "stdout",
          "text": "Test accuracy: 0.5\n",
          "output_type": "stream"
        },
        {
          "ename": "<class 'NameError'>",
          "evalue": "name 'plot_confusion_matrix' is not defined",
          "traceback": [
            "\u001b[0;31m---------------------------------------------------------------------------\u001b[0m",
            "\u001b[0;31mNameError\u001b[0m                                 Traceback (most recent call last)",
            "Cell \u001b[0;32mIn[35], line 9\u001b[0m\n\u001b[1;32m      6\u001b[0m yhat \u001b[38;5;241m=\u001b[39m knn_cv\u001b[38;5;241m.\u001b[39mpredict(X_test)\n\u001b[1;32m      8\u001b[0m \u001b[38;5;66;03m# Plot confusion matrix\u001b[39;00m\n\u001b[0;32m----> 9\u001b[0m \u001b[43mplot_confusion_matrix\u001b[49m(Y_test, yhat)\n",
            "\u001b[0;31mNameError\u001b[0m: name 'plot_confusion_matrix' is not defined"
          ],
          "output_type": "error"
        }
      ],
      "execution_count": 35
    },
    {
      "cell_type": "markdown",
      "source": "We can plot the confusion matrix\n",
      "metadata": {}
    },
    {
      "cell_type": "code",
      "source": "yhat = knn_cv.predict(X_test)\nplot_confusion_matrix(Y_test,yhat)",
      "metadata": {},
      "outputs": [],
      "execution_count": null
    },
    {
      "cell_type": "markdown",
      "source": "## TASK  12\n",
      "metadata": {}
    },
    {
      "cell_type": "markdown",
      "source": "Find the method performs best:\n",
      "metadata": {}
    },
    {
      "cell_type": "code",
      "source": "",
      "metadata": {},
      "outputs": [],
      "execution_count": null
    },
    {
      "cell_type": "markdown",
      "source": "## Authors\n",
      "metadata": {}
    },
    {
      "cell_type": "markdown",
      "source": "[Pratiksha Verma](https://www.linkedin.com/in/pratiksha-verma-6487561b1/)\n",
      "metadata": {}
    },
    {
      "cell_type": "markdown",
      "source": "<!--## Change Log--!>\n",
      "metadata": {}
    },
    {
      "cell_type": "markdown",
      "source": "<!--| Date (YYYY-MM-DD) | Version | Changed By      | Change Description      |\n| ----------------- | ------- | -------------   | ----------------------- |\n| 2022-11-09        | 1.0     | Pratiksha Verma | Converted initial version to Jupyterlite|--!>\n",
      "metadata": {}
    },
    {
      "cell_type": "markdown",
      "source": "### <h3 align=\"center\"> IBM Corporation 2022. All rights reserved. <h3/>\n",
      "metadata": {}
    }
  ]
}